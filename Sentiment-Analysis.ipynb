{
  "cells": [
    {
      "cell_type": "markdown",
      "metadata": {
        "id": "l0bbOkx7YTYy"
      },
      "source": [
        "Sentiment analysis for 'freedoms'."
      ]
    },
    {
      "cell_type": "code",
      "execution_count": 1,
      "metadata": {
        "colab": {
          "base_uri": "https://localhost:8080/",
          "height": 371
        },
        "id": "pur3N4SnYTY8",
        "outputId": "1d3a8500-5c36-455c-8a51-ed1a652d94ad"
      },
      "outputs": [
        {
          "output_type": "error",
          "ename": "MessageError",
          "evalue": "ignored",
          "traceback": [
            "\u001b[0;31m---------------------------------------------------------------------------\u001b[0m",
            "\u001b[0;31mMessageError\u001b[0m                              Traceback (most recent call last)",
            "\u001b[0;32m<ipython-input-1-61bfb1c67ca0>\u001b[0m in \u001b[0;36m<cell line: 7>\u001b[0;34m()\u001b[0m\n\u001b[1;32m      5\u001b[0m \u001b[0;32mfrom\u001b[0m \u001b[0mscipy\u001b[0m \u001b[0;32mimport\u001b[0m \u001b[0mstats\u001b[0m\u001b[0;34m\u001b[0m\u001b[0;34m\u001b[0m\u001b[0m\n\u001b[1;32m      6\u001b[0m \u001b[0;32mfrom\u001b[0m \u001b[0mgoogle\u001b[0m\u001b[0;34m.\u001b[0m\u001b[0mcolab\u001b[0m \u001b[0;32mimport\u001b[0m \u001b[0mdrive\u001b[0m\u001b[0;34m\u001b[0m\u001b[0;34m\u001b[0m\u001b[0m\n\u001b[0;32m----> 7\u001b[0;31m \u001b[0mdrive\u001b[0m\u001b[0;34m.\u001b[0m\u001b[0mmount\u001b[0m\u001b[0;34m(\u001b[0m\u001b[0;34m'/content/gdrive'\u001b[0m\u001b[0;34m)\u001b[0m\u001b[0;34m\u001b[0m\u001b[0;34m\u001b[0m\u001b[0m\n\u001b[0m",
            "\u001b[0;32m/usr/local/lib/python3.10/dist-packages/google/colab/drive.py\u001b[0m in \u001b[0;36mmount\u001b[0;34m(mountpoint, force_remount, timeout_ms, readonly)\u001b[0m\n\u001b[1;32m    101\u001b[0m \u001b[0;32mdef\u001b[0m \u001b[0mmount\u001b[0m\u001b[0;34m(\u001b[0m\u001b[0mmountpoint\u001b[0m\u001b[0;34m,\u001b[0m \u001b[0mforce_remount\u001b[0m\u001b[0;34m=\u001b[0m\u001b[0;32mFalse\u001b[0m\u001b[0;34m,\u001b[0m \u001b[0mtimeout_ms\u001b[0m\u001b[0;34m=\u001b[0m\u001b[0;36m120000\u001b[0m\u001b[0;34m,\u001b[0m \u001b[0mreadonly\u001b[0m\u001b[0;34m=\u001b[0m\u001b[0;32mFalse\u001b[0m\u001b[0;34m)\u001b[0m\u001b[0;34m:\u001b[0m\u001b[0;34m\u001b[0m\u001b[0;34m\u001b[0m\u001b[0m\n\u001b[1;32m    102\u001b[0m   \u001b[0;34m\"\"\"Mount your Google Drive at the specified mountpoint path.\"\"\"\u001b[0m\u001b[0;34m\u001b[0m\u001b[0;34m\u001b[0m\u001b[0m\n\u001b[0;32m--> 103\u001b[0;31m   return _mount(\n\u001b[0m\u001b[1;32m    104\u001b[0m       \u001b[0mmountpoint\u001b[0m\u001b[0;34m,\u001b[0m\u001b[0;34m\u001b[0m\u001b[0;34m\u001b[0m\u001b[0m\n\u001b[1;32m    105\u001b[0m       \u001b[0mforce_remount\u001b[0m\u001b[0;34m=\u001b[0m\u001b[0mforce_remount\u001b[0m\u001b[0;34m,\u001b[0m\u001b[0;34m\u001b[0m\u001b[0;34m\u001b[0m\u001b[0m\n",
            "\u001b[0;32m/usr/local/lib/python3.10/dist-packages/google/colab/drive.py\u001b[0m in \u001b[0;36m_mount\u001b[0;34m(mountpoint, force_remount, timeout_ms, ephemeral, readonly)\u001b[0m\n\u001b[1;32m    130\u001b[0m   )\n\u001b[1;32m    131\u001b[0m   \u001b[0;32mif\u001b[0m \u001b[0mephemeral\u001b[0m\u001b[0;34m:\u001b[0m\u001b[0;34m\u001b[0m\u001b[0;34m\u001b[0m\u001b[0m\n\u001b[0;32m--> 132\u001b[0;31m     _message.blocking_request(\n\u001b[0m\u001b[1;32m    133\u001b[0m         \u001b[0;34m'request_auth'\u001b[0m\u001b[0;34m,\u001b[0m \u001b[0mrequest\u001b[0m\u001b[0;34m=\u001b[0m\u001b[0;34m{\u001b[0m\u001b[0;34m'authType'\u001b[0m\u001b[0;34m:\u001b[0m \u001b[0;34m'dfs_ephemeral'\u001b[0m\u001b[0;34m}\u001b[0m\u001b[0;34m,\u001b[0m \u001b[0mtimeout_sec\u001b[0m\u001b[0;34m=\u001b[0m\u001b[0;32mNone\u001b[0m\u001b[0;34m\u001b[0m\u001b[0;34m\u001b[0m\u001b[0m\n\u001b[1;32m    134\u001b[0m     )\n",
            "\u001b[0;32m/usr/local/lib/python3.10/dist-packages/google/colab/_message.py\u001b[0m in \u001b[0;36mblocking_request\u001b[0;34m(request_type, request, timeout_sec, parent)\u001b[0m\n\u001b[1;32m    174\u001b[0m       \u001b[0mrequest_type\u001b[0m\u001b[0;34m,\u001b[0m \u001b[0mrequest\u001b[0m\u001b[0;34m,\u001b[0m \u001b[0mparent\u001b[0m\u001b[0;34m=\u001b[0m\u001b[0mparent\u001b[0m\u001b[0;34m,\u001b[0m \u001b[0mexpect_reply\u001b[0m\u001b[0;34m=\u001b[0m\u001b[0;32mTrue\u001b[0m\u001b[0;34m\u001b[0m\u001b[0;34m\u001b[0m\u001b[0m\n\u001b[1;32m    175\u001b[0m   )\n\u001b[0;32m--> 176\u001b[0;31m   \u001b[0;32mreturn\u001b[0m \u001b[0mread_reply_from_input\u001b[0m\u001b[0;34m(\u001b[0m\u001b[0mrequest_id\u001b[0m\u001b[0;34m,\u001b[0m \u001b[0mtimeout_sec\u001b[0m\u001b[0;34m)\u001b[0m\u001b[0;34m\u001b[0m\u001b[0;34m\u001b[0m\u001b[0m\n\u001b[0m",
            "\u001b[0;32m/usr/local/lib/python3.10/dist-packages/google/colab/_message.py\u001b[0m in \u001b[0;36mread_reply_from_input\u001b[0;34m(message_id, timeout_sec)\u001b[0m\n\u001b[1;32m    101\u001b[0m     ):\n\u001b[1;32m    102\u001b[0m       \u001b[0;32mif\u001b[0m \u001b[0;34m'error'\u001b[0m \u001b[0;32min\u001b[0m \u001b[0mreply\u001b[0m\u001b[0;34m:\u001b[0m\u001b[0;34m\u001b[0m\u001b[0;34m\u001b[0m\u001b[0m\n\u001b[0;32m--> 103\u001b[0;31m         \u001b[0;32mraise\u001b[0m \u001b[0mMessageError\u001b[0m\u001b[0;34m(\u001b[0m\u001b[0mreply\u001b[0m\u001b[0;34m[\u001b[0m\u001b[0;34m'error'\u001b[0m\u001b[0;34m]\u001b[0m\u001b[0;34m)\u001b[0m\u001b[0;34m\u001b[0m\u001b[0;34m\u001b[0m\u001b[0m\n\u001b[0m\u001b[1;32m    104\u001b[0m       \u001b[0;32mreturn\u001b[0m \u001b[0mreply\u001b[0m\u001b[0;34m.\u001b[0m\u001b[0mget\u001b[0m\u001b[0;34m(\u001b[0m\u001b[0;34m'data'\u001b[0m\u001b[0;34m,\u001b[0m \u001b[0;32mNone\u001b[0m\u001b[0;34m)\u001b[0m\u001b[0;34m\u001b[0m\u001b[0;34m\u001b[0m\u001b[0m\n\u001b[1;32m    105\u001b[0m \u001b[0;34m\u001b[0m\u001b[0m\n",
            "\u001b[0;31mMessageError\u001b[0m: Error: credential propagation was unsuccessful"
          ]
        }
      ],
      "source": [
        "import pandas as pd\n",
        "import csv\n",
        "import string\n",
        "import scipy as sp\n",
        "from scipy import stats\n",
        "from google.colab import drive\n",
        "drive.mount('/content/gdrive')"
      ]
    },
    {
      "cell_type": "markdown",
      "metadata": {
        "id": "LKg_GDbEYTY1"
      },
      "source": [
        "On the sentiments of three sorts of freedoms: freedom to, freedom from, and freedom of from BYU's corpi of early English (COFEA), SCOTUS opinions (COSCOUS), and U.S. Legal Code (COCUSC) DO NOW TOO"
      ]
    },
    {
      "cell_type": "markdown",
      "metadata": {
        "id": "qJ075fjWYTY9"
      },
      "source": [
        "Defining dictionaries for the three varieties of \"freedom:\""
      ]
    },
    {
      "cell_type": "code",
      "execution_count": null,
      "metadata": {
        "id": "8WWpZXjAYTY-"
      },
      "outputs": [],
      "source": [
        "tos = {}\n",
        "froms = {}\n",
        "ofs = {}"
      ]
    },
    {
      "cell_type": "markdown",
      "metadata": {
        "id": "D6SDaVHwYTY-"
      },
      "source": [
        "Isolates the sentence around the occurence of the match (case-insensitive 'freedom' in our cases):"
      ]
    },
    {
      "cell_type": "code",
      "execution_count": null,
      "metadata": {
        "id": "1JuHW491YTY_"
      },
      "outputs": [],
      "source": [
        "def sentence_of(line):\n",
        "    sentence = \"\"\n",
        "    left = line[0]\n",
        "    right = line[2]\n",
        "    sentence += left[left.rfind(\".\") + 1: ]\n",
        "    sentence += line[1]\n",
        "    sentence += right[:right.find(\".\") + 1]\n",
        "    return sentence                   "
      ]
    },
    {
      "cell_type": "markdown",
      "source": [
        "Isolates the complement to 'freedom':"
      ],
      "metadata": {
        "id": "CnNmxCsv-cqa"
      }
    },
    {
      "cell_type": "code",
      "source": [
        "def complement_of(line):\n",
        "  complement = line[2]\n",
        "  return complement[:complement.find(\".\") + 1]"
      ],
      "metadata": {
        "id": "SjzZ5-Xd9-1d"
      },
      "execution_count": null,
      "outputs": []
    },
    {
      "cell_type": "markdown",
      "metadata": {
        "id": "vnL7aWYKYTY_"
      },
      "source": [
        "Tokenization:"
      ]
    },
    {
      "cell_type": "code",
      "execution_count": null,
      "metadata": {
        "id": "T_A8ybKXYTZA"
      },
      "outputs": [],
      "source": [
        "def simple_tokenize(s):\n",
        "    punct = string.punctuation\n",
        "    final_toks = []\n",
        "    toks = s.lower().strip().split()\n",
        "    for w in toks:\n",
        "        final_toks.append(w.strip(punct))\n",
        "    return final_toks"
      ]
    },
    {
      "cell_type": "markdown",
      "metadata": {
        "id": "aFQI2KcVYTZA"
      },
      "source": [
        "Splits occurrences of freedom by the word that follows:"
      ]
    },
    {
      "cell_type": "code",
      "execution_count": null,
      "metadata": {
        "id": "vy4JkjAjYTZB"
      },
      "outputs": [],
      "source": [
        "def split_by_sort(filename):\n",
        "    with open(filename) as f:\n",
        "        tos[filename] = []\n",
        "        froms[filename] = []\n",
        "        ofs[filename] = []\n",
        "        for line in csv.reader(f):\n",
        "            words_after = simple_tokenize(line[2])\n",
        "            if words_after[0] == \"to\":\n",
        "                tos[filename].append(sentence_of(line))\n",
        "            elif words_after[0] == \"from\":\n",
        "                froms[filename].append(sentence_of(line))\n",
        "            elif words_after[0] == \"of\":\n",
        "                ofs[filename].append(sentence_of(line))"
      ]
    },
    {
      "cell_type": "code",
      "source": [
        "def split_sort_complements(filename):\n",
        "    with open(filename) as f:\n",
        "        tos[filename] = []\n",
        "        froms[filename] = []\n",
        "        ofs[filename] = []\n",
        "        for line in csv.reader(f):\n",
        "            words_after = simple_tokenize(line[2])\n",
        "            if words_after[0] == \"to\":\n",
        "                tos[filename].append(complement_of(line))\n",
        "            elif words_after[0] == \"from\":\n",
        "                froms[filename].append(complement_of(line))\n",
        "            elif words_after[0] == \"of\":\n",
        "                ofs[filename].append(complement_of(line))"
      ],
      "metadata": {
        "id": "Dwp2pdjv-nQT"
      },
      "execution_count": null,
      "outputs": []
    },
    {
      "cell_type": "markdown",
      "metadata": {
        "id": "pECSqqujYTZB"
      },
      "source": [
        "Building a dataframe from the sentiment data:"
      ]
    },
    {
      "cell_type": "code",
      "execution_count": null,
      "metadata": {
        "id": "QAZnyokjYTZC"
      },
      "outputs": [],
      "source": [
        "sentiment_df = pd.read_csv('/content/gdrive/My Drive/Colab Notebooks/Warriner_et_al emot ratings.csv', index_col='Word')\n",
        "sentiment_df = sentiment_df[['V.Mean.Sum', 'A.Mean.Sum', 'D.Mean.Sum']]\n",
        "\n",
        "sentiment_df = sentiment_df.rename(\n",
        "    columns={'V.Mean.Sum': 'Valence',\n",
        "             'A.Mean.Sum': 'Arousal',\n",
        "             'D.Mean.Sum': 'Dominance'})"
      ]
    },
    {
      "cell_type": "markdown",
      "metadata": {
        "id": "Z3DAyt4BYTZC"
      },
      "source": [
        "Isolates the sentiment of a given word:"
      ]
    },
    {
      "cell_type": "code",
      "execution_count": null,
      "metadata": {
        "id": "DAj37KmJYTZC"
      },
      "outputs": [],
      "source": [
        "def sentiment_of_word(word, col):\n",
        "    if word in sentiment_df[col]:\n",
        "        return sentiment_df.loc[word][col]\n",
        "    return -1"
      ]
    },
    {
      "cell_type": "markdown",
      "metadata": {
        "id": "yRe6V4xrYTZD"
      },
      "source": [
        "Averages the sentiments of all words in a line:"
      ]
    },
    {
      "cell_type": "code",
      "execution_count": null,
      "metadata": {
        "id": "z4dVz0t2YTZD"
      },
      "outputs": [],
      "source": [
        "def sentiment_of_line(sentence, col):\n",
        "    words = simple_tokenize(sentence)\n",
        "    wc, num = 0, 0\n",
        "    for w in words:\n",
        "        s = sentiment_of_word(w, col)\n",
        "        #add age of acquisition of word to numerator, if statement for some NaN values\n",
        "        if not pd.isnull(s) and s > -1:\n",
        "            num += s\n",
        "            wc += 1\n",
        "    if wc == 0:\n",
        "        return 0\n",
        "    return num/wc"
      ]
    },
    {
      "cell_type": "code",
      "execution_count": null,
      "metadata": {
        "id": "1QnSScVTYTZD"
      },
      "outputs": [],
      "source": [
        "def line_sentiment_il(whole, line, col): #this version takes a list and computes for the index provided\n",
        "    words = simple_tokenize(whole[line])\n",
        "    wc, num = 0, 0\n",
        "    for w in words:\n",
        "        s = sentiment_of_word(w, col)\n",
        "        #add age of acquisition of word to numerator, if statement for some NaN values\n",
        "        if not pd.isnull(s) and s > -1:\n",
        "            num += s\n",
        "            wc += 1\n",
        "    if wc == 0:\n",
        "        return 0\n",
        "    return num/wc"
      ]
    },
    {
      "cell_type": "markdown",
      "metadata": {
        "id": "F0BcolY1YTZE"
      },
      "source": [
        "Tallies the average sentiments for each statistic:"
      ]
    },
    {
      "cell_type": "code",
      "execution_count": null,
      "metadata": {
        "id": "HymrqhnlYTZE"
      },
      "outputs": [],
      "source": [
        "def tally_sentiment(filename, tos, froms, ofs):\n",
        "\n",
        "    toV, toA, toD, fromV, fromA, fromD, ofV, ofA, ofD = 0, 0, 0, 0, 0, 0, 0, 0, 0\n",
        "    for l in tos[filename]:\n",
        "        toV += sentiment_of_line(l, 'Valence')\n",
        "        toA += sentiment_of_line(l, 'Arousal')\n",
        "        toD += sentiment_of_line(l, 'Dominance')\n",
        "    for l in froms[filename]:\n",
        "        fromV += sentiment_of_line(l, 'Valence')\n",
        "        fromA += sentiment_of_line(l, 'Arousal')\n",
        "        fromD += sentiment_of_line(l, 'Dominance')\n",
        "    for l in ofs[filename]:\n",
        "        ofV += sentiment_of_line(l, 'Valence')\n",
        "        ofA += sentiment_of_line(l, 'Arousal')\n",
        "        ofD += sentiment_of_line(l, 'Dominance')\n",
        "    return {'to': {'Valence': toV/len(tos[filename]), 'Arousal': toA/len(tos[filename]), 'Dominance': toD/len(tos[filename])},\n",
        "         'of': {'Valence': ofV/len(ofs[filename]), 'Arousal': ofA/len(ofs[filename]), 'Dominance': ofD/len(ofs[filename])},\n",
        "         'from': {'Valence': fromV/len(froms[filename]), 'Arousal': fromA/len(froms[filename]), 'Dominance': fromD/len(froms[filename])}}"
      ]
    },
    {
      "cell_type": "markdown",
      "metadata": {
        "id": "JXdXsARVYTZE"
      },
      "source": [
        "Computes the above for each of three test files:"
      ]
    },
    {
      "cell_type": "code",
      "execution_count": null,
      "metadata": {
        "colab": {
          "base_uri": "https://localhost:8080/",
          "height": 656
        },
        "id": "JwggnYlXYTZE",
        "outputId": "0f259fca-7c7d-41e2-ee7b-ba41ebb58462"
      },
      "outputs": [
        {
          "output_type": "stream",
          "name": "stdout",
          "text": [
            "In BYU's database of 'freedom' incidents from COFEA, sentiment analysis reveals the following pattern:\n",
            "\n",
            "                 to        of      from\n",
            "Valence    3.990992  4.306697  4.040335\n",
            "Arousal    2.874358  3.060089  3.481714\n",
            "Dominance  3.980968  4.279101  4.191340\n",
            "\n",
            "\n",
            "\n"
          ]
        },
        {
          "output_type": "display_data",
          "data": {
            "text/plain": [
              "<Figure size 640x480 with 1 Axes>"
            ],
            "image/png": "[encoded data removed]"
          },
          "metadata": {}
        }
      ],
      "source": [
        "coscous = \"/content/gdrive/My Drive/Colab Notebooks/coscousMod.csv\"\n",
        "cofeaL = \"/content/gdrive/My Drive/Colab Notebooks/cofeaLegal.csv\"\n",
        "cofeaNL = \"/content/gdrive/My Drive/Colab Notebooks/cofeaNonLegal.csv\"\n",
        "now = \"/content/gdrive/My Drive/Colab Notebooks/now.csv\"\n",
        "cofea = \"/content/gdrive/My Drive/Colab Notebooks/cofea.csv\"\n",
        "for filename in [cofea]:\n",
        "    split_sort_complements(filename)\n",
        "    d = {}\n",
        "    d[filename] = tally_sentiment(filename, tos, froms, ofs)\n",
        "    df = pd.DataFrame.from_dict(d[filename])\n",
        "    print(\"In BYU's database of \\'freedom\\' incidents from %s, sentiment analysis reveals the following pattern:\\n\" % filename.replace(\".csv\",\"\").upper().replace(\"/CONTENT/GDRIVE/MY DRIVE/COLAB NOTEBOOKS/\", \"\"))\n",
        "    print(df)\n",
        "    df.plot.bar(color=[\"#009E73\", \"#E69F00\",\"#56B4E9\", \"#D55E00\"])\n",
        "    print(\"\\n\\n\")"
      ]
    },
    {
      "cell_type": "markdown",
      "metadata": {
        "id": "dFHnvygbYTZF"
      },
      "source": [
        "In the above, we see that 'to' freedoms have greater valence and lesser arousal than 'from' freedoms which could mean that they are more positive, but less extreme freedoms. Since freedoms _from_ oppression often feature negative language about the horror of oppression, but excercising freedoms _to_ certain behaviors often discuss the merits of these less important rights, this is not surprising.\n",
        "\n",
        "Below are the transformations of earlier data into usable (if very dense) lists of sentiments. Had I known I wanted this information, I might have executed the entire program with these lists, but storing less data and calculating an average was preferable for all of the earlier analysis. "
      ]
    },
    {
      "cell_type": "code",
      "execution_count": null,
      "metadata": {
        "id": "nc80TKNoYTZF"
      },
      "outputs": [],
      "source": [
        "coscousToV = list(map(lambda i:line_sentiment_il(tos[coscous], i, 'Valence'), range(0, len(tos[coscous]))))\n",
        "coscousToA = list(map(lambda i:line_sentiment_il(tos[coscous], i, 'Arousal'), range(0, len(tos[coscous]))))\n",
        "coscousToD = list(map(lambda i:line_sentiment_il(tos[coscous], i, 'Dominance'), range(0, len(tos[coscous]))))\n",
        "coscousOfV = list(map(lambda i:line_sentiment_il(ofs[coscous], i, 'Valence'), range(0, len(ofs[coscous]))))\n",
        "coscousOfA = list(map(lambda i:line_sentiment_il(ofs[coscous], i, 'Arousal'), range(0, len(ofs[coscous]))))\n",
        "coscousOfD = list(map(lambda i:line_sentiment_il(ofs[coscous], i, 'Dominance'), range(0, len(ofs[coscous]))))\n",
        "coscousFromV = list(map(lambda i:line_sentiment_il(froms[coscous], i, 'Valence'), range(0, len(froms[coscous]))))\n",
        "coscousFromA = list(map(lambda i:line_sentiment_il(froms[coscous], i, 'Arousal'), range(0, len(froms[coscous]))))\n",
        "coscousFromD = list(map(lambda i:line_sentiment_il(froms[coscous], i, 'Dominance'), range(0, len(froms[coscous]))))\n",
        "\n",
        "#cofea Legal\n",
        "cofeaToV = list(map(lambda i:line_sentiment_il(tos[cofea], i, 'Valence'), range(0, len(tos[cofea]))))\n",
        "cofeaToA = list(map(lambda i:line_sentiment_il(tos[cofea], i, 'Arousal'), range(0, len(tos[cofea]))))\n",
        "cofeaToD = list(map(lambda i:line_sentiment_il(tos[cofea], i, 'Dominance'), range(0, len(tos[cofea]))))\n",
        "cofeaOfV = list(map(lambda i:line_sentiment_il(ofs[cofea], i, 'Valence'), range(0, len(ofs[cofea]))))\n",
        "cofeaOfA = list(map(lambda i:line_sentiment_il(ofs[cofea], i, 'Arousal'), range(0, len(ofs[cofea]))))\n",
        "cofeaOfD = list(map(lambda i:line_sentiment_il(ofs[cofea], i, 'Dominance'), range(0, len(ofs[cofea]))))\n",
        "cofeaFromV = list(map(lambda i:line_sentiment_il(froms[cofea], i, 'Valence'), range(0, len(froms[cofea]))))\n",
        "cofeaFromA = list(map(lambda i:line_sentiment_il(froms[cofea], i, 'Arousal'), range(0, len(froms[cofea]))))\n",
        "cofeaFromD = list(map(lambda i:line_sentiment_il(froms[cofea], i, 'Dominance'), range(0, len(froms[cofea]))))\n",
        "\n",
        "#now\n",
        "nowToV = list(map(lambda i:line_sentiment_il(tos[now], i, 'Valence'), range(0, len(tos[now]))))\n",
        "nowToA = list(map(lambda i:line_sentiment_il(tos[now], i, 'Arousal'), range(0, len(tos[now]))))\n",
        "nowToD = list(map(lambda i:line_sentiment_il(tos[now], i, 'Dominance'), range(0, len(tos[now]))))\n",
        "nowOfV = list(map(lambda i:line_sentiment_il(ofs[now], i, 'Valence'), range(0, len(ofs[now]))))\n",
        "nowOfA = list(map(lambda i:line_sentiment_il(ofs[now], i, 'Arousal'), range(0, len(ofs[now]))))\n",
        "nowOfD = list(map(lambda i:line_sentiment_il(ofs[now], i, 'Dominance'), range(0, len(ofs[now]))))\n",
        "nowFromV = list(map(lambda i:line_sentiment_il(froms[now], i, 'Valence'), range(0, len(froms[now]))))\n",
        "nowFromA = list(map(lambda i:line_sentiment_il(froms[now], i, 'Arousal'), range(0, len(froms[now]))))\n",
        "nowFromD = list(map(lambda i:line_sentiment_il(froms[now], i, 'Dominance'), range(0, len(froms[now]))))\n"
      ]
    },
    {
      "cell_type": "code",
      "source": [
        "toV = coscousToV + cofeaToV + nowToV\n",
        "toA = coscousToA + cofeaToA + nowToA\n",
        "fromV = coscousFromV + cofeaFromV + nowFromV\n",
        "fromA = coscousFromA + cofeaFromA + nowFromA\n",
        "print(fromV)\n",
        "print('general to v from p-values:')\n",
        "print('p-value for to and from Valence: ', sp.stats.ttest_ind(toV, fromV, nan_policy='omit')[1])\n",
        "print('p-value for to and from Arousal: ', sp.stats.ttest_ind(toA, fromA, nan_policy='omit')[1])"
      ],
      "metadata": {
        "colab": {
          "base_uri": "https://localhost:8080/"
        },
        "id": "K6SHH6vk8vb0",
        "outputId": "aefebdbc-e4a0-417e-b763-e5c388a18e0e"
      },
      "execution_count": null,
      "outputs": [
        {
          "output_type": "stream",
          "name": "stdout",
          "text": [
            "[5.640000000000001, 5.361666666666667, 3.85, 5.41, 3.6566666666666667, 3.625, 4.23, 4.65, 4.98, 4.502000000000001, 4.74, 5.1275, 2.8699999999999997, 4.4350000000000005, 5.735, 5.090714285714285, 5.595, 5.065833333333334, 5.5, 5.065833333333334, 5.435833333333332, 5.029999999999999, 4.46, 5.33, 5.266, 5.640000000000001, 0, 0, 6.33, 6.243333333333333, 5.224615384615384, 5.4750000000000005, 4.095, 7.53, 4.885, 5.5633333333333335, 4.76, 5.244, 0, 0, 4.638888888888889, 4.875, 4.875, 0, 0, 0, 6.452000000000001, 5.83875, 5.743333333333333, 0, 5.406666666666666, 5.7, 0, 4.989999999999999, 5.204285714285715, 6.26, 5.333333333333333, 6.335, 4.6274999999999995, 3.7380000000000004, 3.5450000000000004, 4.64, 4.905, 4.836666666666667, 6.14, 5.27, 3.815, 4.691428571428571, 5.645384615384615, 0, 6.26, 0, 0, 5.59, 5.69625, 6.26, 0, 4.48, 3.63, 5.115, 0, 5.708, 5.144, 4.74, 5.4275, 3.8875, 5.3500000000000005, 6.24, 5.71, 3.47, 5.113333333333333, 5.34, 6.355, 6.046666666666667, 6.426666666666667, 5.73, 5.362857142857143, 3.21, 6.04, 0, 0, 6.385000000000001, 0, 3.63, 5.52, 5.807499999999999, 0, 4.398000000000001, 0, 5.835, 6.162666666666667, 5.99, 5.516666666666666, 4.921111111111111, 5.935833333333332, 4.225714285714285, 5.7, 4.756666666666667, 0, 7.07, 4.756666666666667, 4.126666666666666, 0, 0, 5.6575, 0, 0, 0, 0, 0, 4.743333333333333, 6.21, 5.408181818181819, 6.21, 3.08, 5.19875, 6.1778571428571425, 5.942857142857143, 0, 4.805, 2.56, 5.62, 7.1000000000000005, 5.642857142857143, 5.645384615384615, 4.203333333333333, 4.533333333333333, 3.78, 5.531666666666666, 0, 0, 4.065714285714286, 5.419999999999999, 4.82, 0, 5.43, 6.12, 0, 4.300000000000001, 5.996666666666667, 0, 6.222857142857143, 0, 5.458333333333333, 2.27, 5.385000000000001, 0, 5.83, 5.32, 0, 5.050000000000001, 4.8985714285714295, 6.128571428571429, 5.586666666666667, 5.337142857142857, 5.050000000000001, 4.666153846153847, 5.618333333333332, 0, 6.034999999999999, 6.378461538461538, 4.561428571428571, 3.965, 5.913333333333334, 4.816, 4.70375, 1.91, 5.038888888888888, 0, 0, 2.91, 5.51, 5.109999999999999, 5.861111111111111, 5.32, 5.8475, 5.72, 6.511666666666667, 7.5, 3.56, 5.109999999999999, 6.295, 5.63909090909091, 0, 3.08, 4.300000000000001, 6.3870000000000005, 6.44, 4.7625, 0, 0, 5.415, 0, 5.157500000000001, 5.085, 4.7625, 4.968333333333334, 5.996666666666667, 0, 6.106363636363636, 6.099, 0, 5.485, 0, 3.5175, 5.430000000000001, 3.81, 5.707142857142857, 0, 5.212727272727273, 4.24, 5.513333333333333, 4.0, 6.408999999999999, 5.32, 3.5425, 5.045, 4.86, 4.9, 2.66, 5.9338461538461535, 5.31875, 0, 6.595000000000001, 6.008, 5.485, 0, 5.144, 0, 4.8792307692307695, 6.85, 6.806666666666666, 0, 4.77, 0, 2.89, 5.075, 3.08, 6.008, 0, 5.637777777777778, 6.075, 0, 3.88, 4.998333333333333, 0, 6.0825, 6.251666666666666, 4.773, 5.182499999999999, 3.08, 6.318, 4.8792307692307695, 2.755, 4.672857142857143, 6.211333333333332, 4.8774999999999995, 3.8480000000000003, 3.08, 5.441428571428571, 5.605, 5.362857142857143, 5.4725, 0, 6.513333333333333, 3.964, 0, 6.41, 5.6414285714285715, 5.432, 6.38, 0, 3.15, 0, 6.08, 3.965, 5.585, 5.8675, 4.79909090909091, 5.467857142857143, 5.09, 5.247142857142856, 4.52, 5.62125, 3.37, 0, 6.449999999999999, 2.485, 2.67, 5.065, 3.08, 5.5200000000000005, 0, 0, 5.733333333333333, 4.876666666666667, 3.08, 4.49, 4.876666666666667, 5.705, 5.873333333333332, 4.596666666666667, 5.66, 0, 3.965, 4.525, 5.279999999999999, 0, 0, 0, 6.57, 6.029999999999999, 6.171428571428571, 5.505, 5.61, 4.75, 4.72, 5.305, 4.87875, 5.926666666666666, 6.7075, 4.975, 0, 0, 0, 5.285, 5.68625, 0, 5.245, 0, 0, 0, 6.088571428571428, 6.648571428571429, 5.41, 5.8933333333333335, 6.005, 0, 6.955, 0, 0, 6.465999999999999, 6.83, 0, 0, 4.816, 5.09, 5.67, 5.301666666666667, 6.843333333333334, 4.31, 3.135, 5.06, 6.523750000000001, 6.144285714285714, 6.007499999999999, 7.02, 0, 6.21, 0, 6.831666666666666, 4.966666666666667, 5.012, 0]\n",
            "general to v from p-values:\n",
            "p-value for to and from Valence:  0.9204939362066001\n",
            "p-value for to and from Arousal:  8.962423296750223e-06\n"
          ]
        }
      ]
    },
    {
      "cell_type": "markdown",
      "metadata": {
        "id": "VCG9mVZQYTZG"
      },
      "source": [
        "And now, calculations of the statistical significance of some striking comparisons:"
      ]
    },
    {
      "cell_type": "code",
      "execution_count": null,
      "metadata": {
        "colab": {
          "base_uri": "https://localhost:8080/"
        },
        "id": "LkYcCv2lYTZG",
        "outputId": "df32b4c3-9f51-4dae-9078-d7a95555db18"
      },
      "outputs": [
        {
          "output_type": "stream",
          "name": "stdout",
          "text": [
            "Selected Valence p-values:\n",
            "p-value for coscous to and from Valence:  0.18923634604746759\n",
            "p-value for coscous of and from Valence:  5.9581138681417896e-05\n",
            "p-value for cofea legal to and from Valence:  0.782296881594184\n",
            "p-value for now to and from Valence:  0.7486433021001613\n",
            "\n",
            "\n",
            "Selected Arousal p-values:\n",
            "p-value for coscous to and from Arousal:  0.1293774082906775\n",
            "p-value for cofea legal to and from Arousal:  5.949920977556192e-06\n",
            "p-value for now to and from Arousal:  0.7096580699183018\n",
            "\n",
            "\n",
            "Selected 'To' p-values:\n",
            "p-value for 'To' freedoms from COFEA and coscous Arousal:  0.002326866691672326\n",
            "p-value for 'To' freedoms from COFEA and coscous Valence:  0.0014939384211527173\n",
            "p-value for 'To' freedoms from now and coscous Arousal:  0.020635523722815387\n",
            "p-value for 'To' freedoms from now and coscous Valence:  0.012675064115181213\n",
            "p-value for 'To' freedoms from COFEA NL and now Arousal:  0.3024618739400551\n",
            "p-value for 'To' freedoms from COFEA NL and now Valence:  0.3313960216700571\n",
            "\n",
            "\n",
            "Selected 'From' p-values:\n",
            "p-value for 'From' freedoms from COFEA and coscous Arousal:  0.07966084025666065\n",
            "p-value for 'From' freedoms from COFEA and coscous Valence:  0.07370809458561714\n",
            "p-value for 'From' freedoms from now and COSCOUS Arousal:  0.017487813352913703\n",
            "p-value for 'From' freedoms from now and COSCOUS Valence:  0.13329546246411497\n",
            "p-value for 'From' freedoms from cofea NL and now Arousal:  0.22575429141387682\n",
            "p-value for 'From' freedoms from cofea NL and now Valence:  0.9959661908284863\n"
          ]
        }
      ],
      "source": [
        "\n",
        "\n",
        "\n",
        "print('Selected Valence p-values:')\n",
        "print('p-value for coscous to and from Valence: ', sp.stats.ttest_ind(coscousToV, coscousFromV, nan_policy='omit')[1])\n",
        "print('p-value for coscous of and from Valence: ', sp.stats.ttest_ind(coscousOfV, coscousFromV, nan_policy='omit')[1])\n",
        "print('p-value for cofea legal to and from Valence: ', sp.stats.ttest_ind(cofeaToV, cofeaFromV, nan_policy='omit')[1])\n",
        "print('p-value for now to and from Valence: ', sp.stats.ttest_ind(nowToV, nowFromV, nan_policy='omit')[1])\n",
        "print('\\n')\n",
        "print('Selected Arousal p-values:')\n",
        "print('p-value for coscous to and from Arousal: ', sp.stats.ttest_ind(coscousToA, coscousFromA, nan_policy='omit')[1])\n",
        "print('p-value for cofea legal to and from Arousal: ', sp.stats.ttest_ind(cofeaToA, cofeaFromA, nan_policy='omit')[1])\n",
        "print('p-value for now to and from Arousal: ', sp.stats.ttest_ind(nowToA, nowFromA, nan_policy='omit')[1])\n",
        "print('\\n')\n",
        "print('Selected \\'To\\' p-values:')\n",
        "print('p-value for \\'To\\' freedoms from COFEA and coscous Arousal: ', sp.stats.ttest_ind(cofeaToA, coscousToA, nan_policy='omit')[1])\n",
        "print('p-value for \\'To\\' freedoms from COFEA and coscous Valence: ', sp.stats.ttest_ind(cofeaToV, coscousToV, nan_policy='omit')[1])\n",
        "print('p-value for \\'To\\' freedoms from now and coscous Arousal: ', sp.stats.ttest_ind(nowToA, coscousToA, nan_policy='omit')[1])\n",
        "print('p-value for \\'To\\' freedoms from now and coscous Valence: ', sp.stats.ttest_ind(nowToV, coscousToV, nan_policy='omit')[1])\n",
        "print('p-value for \\'To\\' freedoms from COFEA NL and now Arousal: ', sp.stats.ttest_ind(cofeaToA, nowToA, nan_policy='omit')[1])\n",
        "print('p-value for \\'To\\' freedoms from COFEA NL and now Valence: ', sp.stats.ttest_ind(cofeaToV, nowToV, nan_policy='omit')[1])\n",
        "print('\\n')\n",
        "print('Selected \\'From\\' p-values:')\n",
        "print('p-value for \\'From\\' freedoms from COFEA and coscous Arousal: ', sp.stats.ttest_ind(cofeaFromA, coscousFromA, nan_policy='omit')[1])\n",
        "print('p-value for \\'From\\' freedoms from COFEA and coscous Valence: ', sp.stats.ttest_ind(cofeaFromV, coscousFromV, nan_policy='omit')[1])\n",
        "print('p-value for \\'From\\' freedoms from now and COSCOUS Arousal: ', sp.stats.ttest_ind(nowFromA, coscousFromA, nan_policy='omit')[1])\n",
        "print('p-value for \\'From\\' freedoms from now and COSCOUS Valence: ', sp.stats.ttest_ind(nowFromV, coscousFromV, nan_policy='omit')[1])\n",
        "print('p-value for \\'From\\' freedoms from cofea NL and now Arousal: ', sp.stats.ttest_ind(cofeaFromA, nowFromA, nan_policy='omit')[1])\n",
        "print('p-value for \\'From\\' freedoms from cofea NL and now Valence: ', sp.stats.ttest_ind(cofeaFromV, nowFromV, nan_policy='omit')[1])\n"
      ]
    },
    {
      "cell_type": "markdown",
      "metadata": {
        "id": "iXS4UskzYTZH"
      },
      "source": [
        "The hypothesized largest difference _does_ exhibit the most significant difference with a 2-sided p-value < 0.0005 in valence both in Supreme Court language and early English, but not in the U.S. legal code. In general, COCUSC (Supreme Court language) and COSCOUS (U.S. Code) have the most in common (which makes sense given they're more contemporary uses of 'to' and 'from' while COFEA (early English) poses some interesting contrasts with each among different comparisons of valence/arousal and variety of freedom. It may be worth continued evaluation to see what we can learn about the intent of these freedoms."
      ]
    }
  ],
  "metadata": {
    "colab": {
      "provenance": []
    },
    "kernelspec": {
      "display_name": "Python 3",
      "language": "python",
      "name": "python3"
    },
    "language_info": {
      "codemirror_mode": {
        "name": "ipython",
        "version": 3
      },
      "file_extension": ".py",
      "mimetype": "text/x-python",
      "name": "python",
      "nbconvert_exporter": "python",
      "pygments_lexer": "ipython3",
      "version": "3.8.5"
    }
  },
  "nbformat": 4,
  "nbformat_minor": 0
}